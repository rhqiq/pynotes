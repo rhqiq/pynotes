{
 "cells": [
  {
   "cell_type": "code",
   "execution_count": 1,
   "metadata": {},
   "outputs": [],
   "source": [
    "class Connect4():\n",
    "    \n",
    "    def __init__(self, row, col):\n",
    "#         self.board = [['.' for x in range(row)] for y in range(col)]\n",
    "        self.board = [['.'] * row for x in range(col)]\n",
    "    \n",
    "    def print_board(self):\n",
    "        for i in range(len(self.board)):\n",
    "            print('[ ' + ' ][ '.join(self.board[i]) + ' ]')\n",
    "            "
   ]
  },
  {
   "cell_type": "code",
   "execution_count": 2,
   "metadata": {},
   "outputs": [],
   "source": [
    "board = Connect4(3,4)"
   ]
  },
  {
   "cell_type": "code",
   "execution_count": 3,
   "metadata": {},
   "outputs": [
    {
     "name": "stdout",
     "output_type": "stream",
     "text": [
      "[ . ][ . ][ . ]\n",
      "[ . ][ . ][ . ]\n",
      "[ . ][ . ][ . ]\n",
      "[ . ][ . ][ . ]\n"
     ]
    }
   ],
   "source": [
    "board.print_board()"
   ]
  },
  {
   "cell_type": "code",
   "execution_count": null,
   "metadata": {},
   "outputs": [],
   "source": []
  },
  {
   "cell_type": "code",
   "execution_count": null,
   "metadata": {
    "collapsed": true
   },
   "outputs": [],
   "source": []
  }
 ],
 "metadata": {
  "kernelspec": {
   "display_name": "Python 3",
   "language": "python",
   "name": "python3"
  },
  "language_info": {
   "codemirror_mode": {
    "name": "ipython",
    "version": 3
   },
   "file_extension": ".py",
   "mimetype": "text/x-python",
   "name": "python",
   "nbconvert_exporter": "python",
   "pygments_lexer": "ipython3",
   "version": "3.7.3"
  }
 },
 "nbformat": 4,
 "nbformat_minor": 2
}
